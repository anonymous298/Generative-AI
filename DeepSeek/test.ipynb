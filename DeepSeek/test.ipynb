{
 "cells": [
  {
   "cell_type": "code",
   "execution_count": 11,
   "metadata": {},
   "outputs": [],
   "source": [
    "from langchain_ollama import ChatOllama"
   ]
  },
  {
   "cell_type": "code",
   "execution_count": 12,
   "metadata": {},
   "outputs": [],
   "source": [
    "llm = ChatOllama(model='deepseek-r1:1.5b')"
   ]
  },
  {
   "cell_type": "code",
   "execution_count": 15,
   "metadata": {},
   "outputs": [
    {
     "data": {
      "text/plain": [
       "AIMessage(content='<think>\\n\\n</think>\\n\\nAI stands for Artificial Intelligence. It refers to the simulation of human intelligence in machines that are programmed to think, learn, and problem-solve, without being explicitly told to do so. AI encompasses a wide range of technologies, including but not limited to:\\n\\n1. **Machine Learning**: Algorithms that allow systems to improve their performance through data training.\\n2. **Deep Learning**: A subset of machine learning that uses neural networks with multiple layers to model and solve complex problems.\\n3. **Natural Language Processing (NLP)**: The ability of machines to understand, read, process, and generate human-level language.\\n4. **Computer Vision**: The ability of systems to interpret and understand visual data from the world.\\n5. **Robotics**: The use of AI to create robots that can perform tasks that typically require human intelligence.\\n\\nAI has applications across various fields, including manufacturing, healthcare, education, transportation, and more. It is continually evolving as new technologies emerge and existing ones are refined.', additional_kwargs={}, response_metadata={'model': 'deepseek-r1:1.5b', 'created_at': '2025-01-31T09:07:21.3326844Z', 'done': True, 'done_reason': 'stop', 'total_duration': 15036701000, 'load_duration': 128120500, 'prompt_eval_count': 6, 'prompt_eval_duration': 129000000, 'eval_count': 203, 'eval_duration': 14778000000, 'message': Message(role='assistant', content='', images=None, tool_calls=None)}, id='run-2b643f7c-90aa-4b9a-a86b-e17b545aca45-0', usage_metadata={'input_tokens': 6, 'output_tokens': 203, 'total_tokens': 209})"
      ]
     },
     "execution_count": 15,
     "metadata": {},
     "output_type": "execute_result"
    }
   ],
   "source": [
    "llm.invoke('what is ai')"
   ]
  },
  {
   "cell_type": "code",
   "execution_count": null,
   "metadata": {},
   "outputs": [],
   "source": []
  }
 ],
 "metadata": {
  "kernelspec": {
   "display_name": "base",
   "language": "python",
   "name": "python3"
  },
  "language_info": {
   "codemirror_mode": {
    "name": "ipython",
    "version": 3
   },
   "file_extension": ".py",
   "mimetype": "text/x-python",
   "name": "python",
   "nbconvert_exporter": "python",
   "pygments_lexer": "ipython3",
   "version": "3.12.7"
  }
 },
 "nbformat": 4,
 "nbformat_minor": 2
}
